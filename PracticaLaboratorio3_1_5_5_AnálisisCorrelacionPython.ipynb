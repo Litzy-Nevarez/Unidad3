{
 "cells": [
  {
   "cell_type": "markdown",
   "id": "e4b6a43a",
   "metadata": {},
   "source": [
    "# Práctica de laboratorio: Análisis de correlación en Python\n",
    "\n",
    "## Nevarez García Litzy Yulissa\n",
    "\n",
    "### Objetivos\n",
    "\n",
    "**Parte 1: El conjunto de datos**\n",
    "\n",
    "**Parte 2: Gráficos de dispersión y variables correlacionables**\n",
    "\n",
    "**Parte 3: Calcular la correlación con Python**\n",
    "\n",
    "**Parte 4: Visualización**\n",
    "\n",
    "### Situación/Contexto\n",
    "\n",
    "La correlación es una relación estadística importante que puede indicar si los valores variables tienen relación lineal.\n",
    "\n",
    "En esta práctica de laboratorio aprenderá a utilizar Python para calcular la correlación. En la Parte 1 configurará el conjunto de datos. En la Parte 2 aprenderá a identificar si las variables de un determinado conjunto de datos son correlacionables. Finalmente, en la Parte 3 utilizará Python para calcular la correlación entre dos conjuntos de variables.\n",
    "\n",
    "### Recursos necesarios\n",
    "\n",
    "- 1 PC con acceso a Internet\n",
    "\n",
    "- Raspberry Pi versión 2 o superior\n",
    "\n",
    "- Bibliotecas de Python: pandas, numpy, matplotlib, seaborn\n",
    "\n",
    "- Archivos de datos: brainsize.txt\n",
    "\n",
    "### Parte 1: El conjunto de datos\n",
    "\n",
    "Se utilizará un conjunto de datos que contiene un ejemplo de 40 estudiantes diestros de introducción a la psicología anglosajona de la una gran universidad de Southwestern. Los sujetos realizaron cuatro pruebas secundarias (vocabulario, similitudes, diseño de bloque y finalización de imagen) de la Escala Wechsler de Inteligencia para Adultos (1981) revisada. Los investigadores utilizaron imágenes por resonancia magnética (IRM) para determinar el tamaño del cerebro de los sujetos. También se incluyó información sobre el género y el tamaño del cuerpo (altura y peso). Los investigadores ocultaron los pesos de dos sujetos y la altura de un sujeto por razones de confidencialidad. Se realizaron dos modificaciones sencillas en el conjunto de datos:\n",
    "\n",
    "1.  Se reemplazaron los signos de interrogación utilizados para representar los puntos de datos ocultos descritos anteriormente por la cadena “NaN”. La sustitución se realizó porque Pandas no utiliza los signos de interrogación correctamente.\n",
    "\n",
    "2. Reemplazar todos los caracteres de tabulación por comas y así convertir el conjunto de datos en un conjunto de dat2os CSV.\n",
    "\n",
    "El conjunto de datos elaborado se guarda como brainsize.csv.\n",
    "\n",
    "Paso 1: Carga del conjunto de datos desde un archivo\n",
    "Antes de utilizar el conjunto de datos, debe cargarlo en la memoria.\n",
    "\n",
    "En el siguiente código, la primera línea importa los módulos pandas y define pd como un descriptor que se refiere al módulo.\n",
    "\n",
    "La segunda línea carga el archivo CSV del conjunto de datos en una variable llamada brainFile.\n",
    "\n",
    "La tercera línea utiliza read_csv(), un método pandas para convertir el conjunto de datos CSV guardado en brainFile en una estructura de datos. La estructura de datos se almacena luego en la variable brainFrame.\n",
    "\n",
    "Ejecute la siguiente celda para activar las funciones descritas."
   ]
  },
  {
   "cell_type": "code",
   "execution_count": 17,
   "id": "c2d2e450",
   "metadata": {},
   "outputs": [],
   "source": [
    "# Code cell 1\n",
    "import pandas as pd\n",
    "brainFile = 'C:/Users/yulis/Analitica de los Datos en las organizaciones/Data/Brain Size Data.csv'\n",
    "brainFrame = pd.read_csv(brainFile)"
   ]
  },
  {
   "cell_type": "markdown",
   "id": "e04bb549",
   "metadata": {},
   "source": [
    "Paso 2: Verificación de la estructura de datos\n",
    "\n",
    "Para asegurarse de que la estructura de datos se haya cargado y creado, utilice el método head(). Otros métodos Pandas, head(), muestra las primeras cinco entradas de una estructura de datos."
   ]
  },
  {
   "cell_type": "code",
   "execution_count": 18,
   "id": "8c2614f9",
   "metadata": {},
   "outputs": [
    {
     "data": {
      "text/html": [
       "<div>\n",
       "<style scoped>\n",
       "    .dataframe tbody tr th:only-of-type {\n",
       "        vertical-align: middle;\n",
       "    }\n",
       "\n",
       "    .dataframe tbody tr th {\n",
       "        vertical-align: top;\n",
       "    }\n",
       "\n",
       "    .dataframe thead th {\n",
       "        text-align: right;\n",
       "    }\n",
       "</style>\n",
       "<table border=\"1\" class=\"dataframe\">\n",
       "  <thead>\n",
       "    <tr style=\"text-align: right;\">\n",
       "      <th></th>\n",
       "      <th>Gender</th>\n",
       "      <th>FSIQ</th>\n",
       "      <th>VIQ</th>\n",
       "      <th>PIQ</th>\n",
       "      <th>Weight</th>\n",
       "      <th>Height</th>\n",
       "      <th>MRI_Count</th>\n",
       "      <th>Promedio</th>\n",
       "      <th>MRI</th>\n",
       "    </tr>\n",
       "  </thead>\n",
       "  <tbody>\n",
       "    <tr>\n",
       "      <th>0</th>\n",
       "      <td>Female</td>\n",
       "      <td>133</td>\n",
       "      <td>132</td>\n",
       "      <td>124</td>\n",
       "      <td>118.0</td>\n",
       "      <td>64.5</td>\n",
       "      <td>816932</td>\n",
       "      <td>130</td>\n",
       "      <td>816932</td>\n",
       "    </tr>\n",
       "    <tr>\n",
       "      <th>1</th>\n",
       "      <td>Male</td>\n",
       "      <td>140</td>\n",
       "      <td>150</td>\n",
       "      <td>124</td>\n",
       "      <td>NaN</td>\n",
       "      <td>72.5</td>\n",
       "      <td>1001121</td>\n",
       "      <td>138</td>\n",
       "      <td>1001121</td>\n",
       "    </tr>\n",
       "    <tr>\n",
       "      <th>2</th>\n",
       "      <td>Male</td>\n",
       "      <td>139</td>\n",
       "      <td>123</td>\n",
       "      <td>150</td>\n",
       "      <td>143.0</td>\n",
       "      <td>73.3</td>\n",
       "      <td>1038437</td>\n",
       "      <td>137</td>\n",
       "      <td>1038437</td>\n",
       "    </tr>\n",
       "    <tr>\n",
       "      <th>3</th>\n",
       "      <td>Male</td>\n",
       "      <td>133</td>\n",
       "      <td>129</td>\n",
       "      <td>128</td>\n",
       "      <td>172.0</td>\n",
       "      <td>68.8</td>\n",
       "      <td>965353</td>\n",
       "      <td>130</td>\n",
       "      <td>965353</td>\n",
       "    </tr>\n",
       "    <tr>\n",
       "      <th>4</th>\n",
       "      <td>Female</td>\n",
       "      <td>137</td>\n",
       "      <td>132</td>\n",
       "      <td>134</td>\n",
       "      <td>147.0</td>\n",
       "      <td>65.0</td>\n",
       "      <td>951545</td>\n",
       "      <td>134</td>\n",
       "      <td>951545</td>\n",
       "    </tr>\n",
       "  </tbody>\n",
       "</table>\n",
       "</div>"
      ],
      "text/plain": [
       "   Gender  FSIQ  VIQ  PIQ  Weight  Height  MRI_Count  Promedio      MRI\n",
       "0  Female   133  132  124   118.0    64.5     816932       130   816932\n",
       "1    Male   140  150  124     NaN    72.5    1001121       138  1001121\n",
       "2    Male   139  123  150   143.0    73.3    1038437       137  1038437\n",
       "3    Male   133  129  128   172.0    68.8     965353       130   965353\n",
       "4  Female   137  132  134   147.0    65.0     951545       134   951545"
      ]
     },
     "execution_count": 18,
     "metadata": {},
     "output_type": "execute_result"
    }
   ],
   "source": [
    "# Code cell 2\n",
    "brainFrame.head()"
   ]
  },
  {
   "cell_type": "markdown",
   "id": "4c73bdd0",
   "metadata": {},
   "source": [
    "### Parte 2: Gráficos de dispersión y variables correlacionables\n",
    "\n",
    "Paso 1: El método Pandas describe().\n",
    "\n",
    "El módulo de Pandas incluye el método describe() que realiza los mismos cálculos comunes sobre un conjunto de datos determinado. Además de proporcionar resultados comunes, incluidos el conteo, el promedio, la desviación estándar, el mínimo y el máximo, describe() también es una excelente manera de probar rápidamente la validez de los valores de la estructura de datos.\n",
    "\n",
    "Ejecutar la siguiente celda para emitir los resultado computados por describe() según la estructura de datos brainFrame."
   ]
  },
  {
   "cell_type": "code",
   "execution_count": 19,
   "id": "d608eed9",
   "metadata": {},
   "outputs": [
    {
     "data": {
      "text/html": [
       "<div>\n",
       "<style scoped>\n",
       "    .dataframe tbody tr th:only-of-type {\n",
       "        vertical-align: middle;\n",
       "    }\n",
       "\n",
       "    .dataframe tbody tr th {\n",
       "        vertical-align: top;\n",
       "    }\n",
       "\n",
       "    .dataframe thead th {\n",
       "        text-align: right;\n",
       "    }\n",
       "</style>\n",
       "<table border=\"1\" class=\"dataframe\">\n",
       "  <thead>\n",
       "    <tr style=\"text-align: right;\">\n",
       "      <th></th>\n",
       "      <th>FSIQ</th>\n",
       "      <th>VIQ</th>\n",
       "      <th>PIQ</th>\n",
       "      <th>Weight</th>\n",
       "      <th>Height</th>\n",
       "      <th>MRI_Count</th>\n",
       "      <th>Promedio</th>\n",
       "      <th>MRI</th>\n",
       "    </tr>\n",
       "  </thead>\n",
       "  <tbody>\n",
       "    <tr>\n",
       "      <th>count</th>\n",
       "      <td>40.000000</td>\n",
       "      <td>40.000000</td>\n",
       "      <td>40.00000</td>\n",
       "      <td>38.000000</td>\n",
       "      <td>39.000000</td>\n",
       "      <td>4.000000e+01</td>\n",
       "      <td>40.000000</td>\n",
       "      <td>4.000000e+01</td>\n",
       "    </tr>\n",
       "    <tr>\n",
       "      <th>mean</th>\n",
       "      <td>113.450000</td>\n",
       "      <td>112.350000</td>\n",
       "      <td>111.02500</td>\n",
       "      <td>151.052632</td>\n",
       "      <td>68.525641</td>\n",
       "      <td>9.087550e+05</td>\n",
       "      <td>112.250000</td>\n",
       "      <td>9.087550e+05</td>\n",
       "    </tr>\n",
       "    <tr>\n",
       "      <th>std</th>\n",
       "      <td>24.082071</td>\n",
       "      <td>23.616107</td>\n",
       "      <td>22.47105</td>\n",
       "      <td>23.478509</td>\n",
       "      <td>3.994649</td>\n",
       "      <td>7.228205e+04</td>\n",
       "      <td>22.495299</td>\n",
       "      <td>7.228205e+04</td>\n",
       "    </tr>\n",
       "    <tr>\n",
       "      <th>min</th>\n",
       "      <td>77.000000</td>\n",
       "      <td>71.000000</td>\n",
       "      <td>72.00000</td>\n",
       "      <td>106.000000</td>\n",
       "      <td>62.000000</td>\n",
       "      <td>7.906190e+05</td>\n",
       "      <td>77.000000</td>\n",
       "      <td>7.906190e+05</td>\n",
       "    </tr>\n",
       "    <tr>\n",
       "      <th>25%</th>\n",
       "      <td>89.750000</td>\n",
       "      <td>90.000000</td>\n",
       "      <td>88.25000</td>\n",
       "      <td>135.250000</td>\n",
       "      <td>66.000000</td>\n",
       "      <td>8.559185e+05</td>\n",
       "      <td>90.750000</td>\n",
       "      <td>8.559185e+05</td>\n",
       "    </tr>\n",
       "    <tr>\n",
       "      <th>50%</th>\n",
       "      <td>116.500000</td>\n",
       "      <td>113.000000</td>\n",
       "      <td>115.00000</td>\n",
       "      <td>146.500000</td>\n",
       "      <td>68.000000</td>\n",
       "      <td>9.053990e+05</td>\n",
       "      <td>115.000000</td>\n",
       "      <td>9.053990e+05</td>\n",
       "    </tr>\n",
       "    <tr>\n",
       "      <th>75%</th>\n",
       "      <td>135.500000</td>\n",
       "      <td>129.750000</td>\n",
       "      <td>128.00000</td>\n",
       "      <td>172.000000</td>\n",
       "      <td>70.500000</td>\n",
       "      <td>9.500780e+05</td>\n",
       "      <td>133.250000</td>\n",
       "      <td>9.500780e+05</td>\n",
       "    </tr>\n",
       "    <tr>\n",
       "      <th>max</th>\n",
       "      <td>144.000000</td>\n",
       "      <td>150.000000</td>\n",
       "      <td>150.00000</td>\n",
       "      <td>192.000000</td>\n",
       "      <td>77.000000</td>\n",
       "      <td>1.079549e+06</td>\n",
       "      <td>142.000000</td>\n",
       "      <td>1.079549e+06</td>\n",
       "    </tr>\n",
       "  </tbody>\n",
       "</table>\n",
       "</div>"
      ],
      "text/plain": [
       "             FSIQ         VIQ        PIQ      Weight     Height     MRI_Count  \\\n",
       "count   40.000000   40.000000   40.00000   38.000000  39.000000  4.000000e+01   \n",
       "mean   113.450000  112.350000  111.02500  151.052632  68.525641  9.087550e+05   \n",
       "std     24.082071   23.616107   22.47105   23.478509   3.994649  7.228205e+04   \n",
       "min     77.000000   71.000000   72.00000  106.000000  62.000000  7.906190e+05   \n",
       "25%     89.750000   90.000000   88.25000  135.250000  66.000000  8.559185e+05   \n",
       "50%    116.500000  113.000000  115.00000  146.500000  68.000000  9.053990e+05   \n",
       "75%    135.500000  129.750000  128.00000  172.000000  70.500000  9.500780e+05   \n",
       "max    144.000000  150.000000  150.00000  192.000000  77.000000  1.079549e+06   \n",
       "\n",
       "         Promedio           MRI  \n",
       "count   40.000000  4.000000e+01  \n",
       "mean   112.250000  9.087550e+05  \n",
       "std     22.495299  7.228205e+04  \n",
       "min     77.000000  7.906190e+05  \n",
       "25%     90.750000  8.559185e+05  \n",
       "50%    115.000000  9.053990e+05  \n",
       "75%    133.250000  9.500780e+05  \n",
       "max    142.000000  1.079549e+06  "
      ]
     },
     "execution_count": 19,
     "metadata": {},
     "output_type": "execute_result"
    }
   ],
   "source": [
    "# Code cell 3\n",
    "brainFrame.describe()"
   ]
  },
  {
   "cell_type": "markdown",
   "id": "1e842534",
   "metadata": {},
   "source": [
    "Paso 2: Gráficos de dispersión\n",
    "\n",
    "Los gráficos de dispersión son importantes al trabajar con correlaciones, ya que permiten una verificación visual rápida de la naturaleza de la relación entre las variables. Esta práctica de laboratorio utiliza el coeficiente de correlación de Pearson, que es sensible sólo a una relación lineal entre dos variables. Existen oros métodos de correlación más robustos, pero exceden el alcance de esta práctica de laboratorio.\n",
    "\n",
    "a. Cargar los módulos requeridos.\n",
    "\n",
    "Antes de trazar los gráficos, es necesario importar algunos módulos, como numpy y matplotlib. Ejecutar la siguiente celda para cargar estos módulos."
   ]
  },
  {
   "cell_type": "code",
   "execution_count": 20,
   "id": "b5cc68ae",
   "metadata": {},
   "outputs": [],
   "source": [
    "# Code cell 4\n",
    "import numpy as np\n",
    "import matplotlib.pyplot as plt"
   ]
  },
  {
   "cell_type": "markdown",
   "id": "624e33af",
   "metadata": {},
   "source": [
    "b. Separar los datos\n",
    "\n",
    "Para asegurarse de que los resultados no se sesguen debido a las diferencias entre organismos femeninos y masculinos, la estructura de datos se divide en dos: una que contiene todas las entradas masculinas y otra solo con instancias femeninas.\n",
    "\n",
    "A ejecutar la siguiente celda, se crean las dos nuevas estructuras de datos, menDf y womenDf; cada una incluye las entradas respectivas."
   ]
  },
  {
   "cell_type": "code",
   "execution_count": 21,
   "id": "843062f7",
   "metadata": {},
   "outputs": [],
   "source": [
    "# Code cell 5\n",
    "menDf = brainFrame[(brainFrame.Gender == 'Male')]\n",
    "womenDf = brainFrame[(brainFrame.Gender == 'Female')]\n",
    "\n",
    "#menDf.head()"
   ]
  },
  {
   "cell_type": "markdown",
   "id": "e0b76ad8",
   "metadata": {},
   "source": [
    "c. Trazar los gráficos\n",
    "\n",
    "Como el conjunto de datos incluye tres medidas diferentes de inteligencia (PIQ, FSIQ y VIQ), la primera línea que figura a continuación utiliza el método Pandas mean() para calcular el valor promedio entre las tres y guardar el resultado en la variable menMeanSmarts. Observe que la primera línea también se refiere a menDf, la estructura de datos filtrada que contiene sólo las entradas masculinas.\n",
    "\n",
    "La segunda línea utiliza el método matplotlib scatter() para crear un gráfico de dispersión entre la variable menMeanSmarts variable y el atributo MRI_Count. El MRI_Count de este conjunto de datos se puede considerar como una medida del tamaño físico del cerebro de los sujetos.\n",
    "\n",
    "La tercera línea simplemente muestra el gráfico.\n",
    "\n",
    "La cuarta línea se utiliza para garantizar que el gráfico se muestre en esta libreta de anotaciones."
   ]
  },
  {
   "cell_type": "code",
   "execution_count": 22,
   "id": "cc4fbe00",
   "metadata": {},
   "outputs": [
    {
     "data": {
      "image/png": "[encoded data removed]",
      "text/plain": [
       "<Figure size 432x288 with 1 Axes>"
      ]
     },
     "metadata": {
      "needs_background": "light"
     },
     "output_type": "display_data"
    }
   ],
   "source": [
    "# Code cell 6\n",
    "%matplotlib inline\n",
    "menMeanSmarts = menDf[[\"PIQ\", \"FSIQ\", \"VIQ\"]].mean(axis=1)\n",
    "plt.scatter(menMeanSmarts, menDf[\"MRI_Count\"])\n",
    "plt.show()"
   ]
  },
  {
   "cell_type": "markdown",
   "id": "5badcc74",
   "metadata": {},
   "source": [
    "Del mismo modo, el siguiente código crea un gráfico de dispersión para la estructura de datos filtrada solo para mujeres."
   ]
  },
  {
   "cell_type": "code",
   "execution_count": 23,
   "id": "a2bdab75",
   "metadata": {},
   "outputs": [
    {
     "data": {
      "image/png": "[encoded data removed]",
      "text/plain": [
       "<Figure size 432x288 with 1 Axes>"
      ]
     },
     "metadata": {
      "needs_background": "light"
     },
     "output_type": "display_data"
    }
   ],
   "source": [
    "# Code cell 7\n",
    "%matplotlib inline\n",
    "# Graph the women-only filtered dataframe\n",
    "womenMeanSmarts = womenDf[[\"PIQ\", \"FSIQ\", \"VIQ\"]].mean(axis=1)\n",
    "plt.scatter(womenMeanSmarts, womenDf[\"MRI_Count\"])\n",
    "plt.show()"
   ]
  },
  {
   "cell_type": "markdown",
   "id": "5be6325e",
   "metadata": {},
   "source": [
    "### Parte 3: Calcular la correlación con Python\n",
    "\n",
    "Paso 1: Cálculo de la correlación según brainFrame\n",
    "\n",
    "El método pandas corr()) ofrece una manera fácil de calcular la correlación según una estructura de datos. Simplemente empleando el método según una estructura de datos, uno puede obtener la correlación entre todas las variables al mismo tiempo."
   ]
  },
  {
   "cell_type": "code",
   "execution_count": 24,
   "id": "024a5c15",
   "metadata": {
    "scrolled": true
   },
   "outputs": [
    {
     "data": {
      "text/html": [
       "<div>\n",
       "<style scoped>\n",
       "    .dataframe tbody tr th:only-of-type {\n",
       "        vertical-align: middle;\n",
       "    }\n",
       "\n",
       "    .dataframe tbody tr th {\n",
       "        vertical-align: top;\n",
       "    }\n",
       "\n",
       "    .dataframe thead th {\n",
       "        text-align: right;\n",
       "    }\n",
       "</style>\n",
       "<table border=\"1\" class=\"dataframe\">\n",
       "  <thead>\n",
       "    <tr style=\"text-align: right;\">\n",
       "      <th></th>\n",
       "      <th>FSIQ</th>\n",
       "      <th>VIQ</th>\n",
       "      <th>PIQ</th>\n",
       "      <th>Weight</th>\n",
       "      <th>Height</th>\n",
       "      <th>MRI_Count</th>\n",
       "      <th>Promedio</th>\n",
       "      <th>MRI</th>\n",
       "    </tr>\n",
       "  </thead>\n",
       "  <tbody>\n",
       "    <tr>\n",
       "      <th>FSIQ</th>\n",
       "      <td>1.000000</td>\n",
       "      <td>0.946639</td>\n",
       "      <td>0.934125</td>\n",
       "      <td>-0.051483</td>\n",
       "      <td>-0.086002</td>\n",
       "      <td>0.357641</td>\n",
       "      <td>0.998859</td>\n",
       "      <td>0.357641</td>\n",
       "    </tr>\n",
       "    <tr>\n",
       "      <th>VIQ</th>\n",
       "      <td>0.946639</td>\n",
       "      <td>1.000000</td>\n",
       "      <td>0.778135</td>\n",
       "      <td>-0.076088</td>\n",
       "      <td>-0.071068</td>\n",
       "      <td>0.337478</td>\n",
       "      <td>0.947328</td>\n",
       "      <td>0.337478</td>\n",
       "    </tr>\n",
       "    <tr>\n",
       "      <th>PIQ</th>\n",
       "      <td>0.934125</td>\n",
       "      <td>0.778135</td>\n",
       "      <td>1.000000</td>\n",
       "      <td>0.002512</td>\n",
       "      <td>-0.076723</td>\n",
       "      <td>0.386817</td>\n",
       "      <td>0.937584</td>\n",
       "      <td>0.386817</td>\n",
       "    </tr>\n",
       "    <tr>\n",
       "      <th>Weight</th>\n",
       "      <td>-0.051483</td>\n",
       "      <td>-0.076088</td>\n",
       "      <td>0.002512</td>\n",
       "      <td>1.000000</td>\n",
       "      <td>0.699614</td>\n",
       "      <td>0.513378</td>\n",
       "      <td>-0.042403</td>\n",
       "      <td>0.513378</td>\n",
       "    </tr>\n",
       "    <tr>\n",
       "      <th>Height</th>\n",
       "      <td>-0.086002</td>\n",
       "      <td>-0.071068</td>\n",
       "      <td>-0.076723</td>\n",
       "      <td>0.699614</td>\n",
       "      <td>1.000000</td>\n",
       "      <td>0.601712</td>\n",
       "      <td>-0.079329</td>\n",
       "      <td>0.601712</td>\n",
       "    </tr>\n",
       "    <tr>\n",
       "      <th>MRI_Count</th>\n",
       "      <td>0.357641</td>\n",
       "      <td>0.337478</td>\n",
       "      <td>0.386817</td>\n",
       "      <td>0.513378</td>\n",
       "      <td>0.601712</td>\n",
       "      <td>1.000000</td>\n",
       "      <td>0.374544</td>\n",
       "      <td>1.000000</td>\n",
       "    </tr>\n",
       "    <tr>\n",
       "      <th>Promedio</th>\n",
       "      <td>0.998859</td>\n",
       "      <td>0.947328</td>\n",
       "      <td>0.937584</td>\n",
       "      <td>-0.042403</td>\n",
       "      <td>-0.079329</td>\n",
       "      <td>0.374544</td>\n",
       "      <td>1.000000</td>\n",
       "      <td>0.374544</td>\n",
       "    </tr>\n",
       "    <tr>\n",
       "      <th>MRI</th>\n",
       "      <td>0.357641</td>\n",
       "      <td>0.337478</td>\n",
       "      <td>0.386817</td>\n",
       "      <td>0.513378</td>\n",
       "      <td>0.601712</td>\n",
       "      <td>1.000000</td>\n",
       "      <td>0.374544</td>\n",
       "      <td>1.000000</td>\n",
       "    </tr>\n",
       "  </tbody>\n",
       "</table>\n",
       "</div>"
      ],
      "text/plain": [
       "               FSIQ       VIQ       PIQ    Weight    Height  MRI_Count  \\\n",
       "FSIQ       1.000000  0.946639  0.934125 -0.051483 -0.086002   0.357641   \n",
       "VIQ        0.946639  1.000000  0.778135 -0.076088 -0.071068   0.337478   \n",
       "PIQ        0.934125  0.778135  1.000000  0.002512 -0.076723   0.386817   \n",
       "Weight    -0.051483 -0.076088  0.002512  1.000000  0.699614   0.513378   \n",
       "Height    -0.086002 -0.071068 -0.076723  0.699614  1.000000   0.601712   \n",
       "MRI_Count  0.357641  0.337478  0.386817  0.513378  0.601712   1.000000   \n",
       "Promedio   0.998859  0.947328  0.937584 -0.042403 -0.079329   0.374544   \n",
       "MRI        0.357641  0.337478  0.386817  0.513378  0.601712   1.000000   \n",
       "\n",
       "           Promedio       MRI  \n",
       "FSIQ       0.998859  0.357641  \n",
       "VIQ        0.947328  0.337478  \n",
       "PIQ        0.937584  0.386817  \n",
       "Weight    -0.042403  0.513378  \n",
       "Height    -0.079329  0.601712  \n",
       "MRI_Count  0.374544  1.000000  \n",
       "Promedio   1.000000  0.374544  \n",
       "MRI        0.374544  1.000000  "
      ]
     },
     "execution_count": 24,
     "metadata": {},
     "output_type": "execute_result"
    }
   ],
   "source": [
    "# Code cell 8\n",
    "brainFrame.corr(method='pearson')"
   ]
  },
  {
   "cell_type": "markdown",
   "id": "3fc22ad0",
   "metadata": {},
   "source": [
    "Observe la diagonal de izquierda a derecha en la tabla de correlación generada arriba. ¿Por qué la diagonal está plagada de 1? ¿Se trata de una coincidencia? Explique.\n"
   ]
  },
  {
   "cell_type": "markdown",
   "id": "6e090fa3",
   "metadata": {},
   "source": [
    "**No, porque se hace la correlacion entre el mismo valor de la variable, por ejemplo FSIQ y FISQ**"
   ]
  },
  {
   "cell_type": "markdown",
   "id": "e168b106",
   "metadata": {},
   "source": [
    "Si continuamos observando la tabla de correlación que figura arriba, notaremos que los valores se duplican; los valores debajo de la diagonal 1 tienen valores homólogos duplicados sobre la diagonal 1. ¿Se trata de una coincidencia? Explique.\n"
   ]
  },
  {
   "cell_type": "markdown",
   "id": "fe2ee17f",
   "metadata": {},
   "source": [
    "**No, es similar a la pregunta anterior, por ejemplo es la misma correlacion de FSIQ y VIQ que VIQ y FSIQ**"
   ]
  },
  {
   "cell_type": "markdown",
   "id": "b5720cc5",
   "metadata": {},
   "source": [
    "Con el mismo método corr() es fácil calcular la correlación de las variables que contiene la estructura de datos solo femenina:"
   ]
  },
  {
   "cell_type": "code",
   "execution_count": 25,
   "id": "2347b947",
   "metadata": {},
   "outputs": [
    {
     "data": {
      "text/html": [
       "<div>\n",
       "<style scoped>\n",
       "    .dataframe tbody tr th:only-of-type {\n",
       "        vertical-align: middle;\n",
       "    }\n",
       "\n",
       "    .dataframe tbody tr th {\n",
       "        vertical-align: top;\n",
       "    }\n",
       "\n",
       "    .dataframe thead th {\n",
       "        text-align: right;\n",
       "    }\n",
       "</style>\n",
       "<table border=\"1\" class=\"dataframe\">\n",
       "  <thead>\n",
       "    <tr style=\"text-align: right;\">\n",
       "      <th></th>\n",
       "      <th>FSIQ</th>\n",
       "      <th>VIQ</th>\n",
       "      <th>PIQ</th>\n",
       "      <th>Weight</th>\n",
       "      <th>Height</th>\n",
       "      <th>MRI_Count</th>\n",
       "      <th>Promedio</th>\n",
       "      <th>MRI</th>\n",
       "    </tr>\n",
       "  </thead>\n",
       "  <tbody>\n",
       "    <tr>\n",
       "      <th>FSIQ</th>\n",
       "      <td>1.000000</td>\n",
       "      <td>0.955717</td>\n",
       "      <td>0.939382</td>\n",
       "      <td>0.038192</td>\n",
       "      <td>-0.059011</td>\n",
       "      <td>0.325697</td>\n",
       "      <td>0.999072</td>\n",
       "      <td>0.325697</td>\n",
       "    </tr>\n",
       "    <tr>\n",
       "      <th>VIQ</th>\n",
       "      <td>0.955717</td>\n",
       "      <td>1.000000</td>\n",
       "      <td>0.802652</td>\n",
       "      <td>-0.021889</td>\n",
       "      <td>-0.146453</td>\n",
       "      <td>0.254933</td>\n",
       "      <td>0.951318</td>\n",
       "      <td>0.254933</td>\n",
       "    </tr>\n",
       "    <tr>\n",
       "      <th>PIQ</th>\n",
       "      <td>0.939382</td>\n",
       "      <td>0.802652</td>\n",
       "      <td>1.000000</td>\n",
       "      <td>0.113901</td>\n",
       "      <td>-0.001242</td>\n",
       "      <td>0.396157</td>\n",
       "      <td>0.946876</td>\n",
       "      <td>0.396157</td>\n",
       "    </tr>\n",
       "    <tr>\n",
       "      <th>Weight</th>\n",
       "      <td>0.038192</td>\n",
       "      <td>-0.021889</td>\n",
       "      <td>0.113901</td>\n",
       "      <td>1.000000</td>\n",
       "      <td>0.552357</td>\n",
       "      <td>0.446271</td>\n",
       "      <td>0.045848</td>\n",
       "      <td>0.446271</td>\n",
       "    </tr>\n",
       "    <tr>\n",
       "      <th>Height</th>\n",
       "      <td>-0.059011</td>\n",
       "      <td>-0.146453</td>\n",
       "      <td>-0.001242</td>\n",
       "      <td>0.552357</td>\n",
       "      <td>1.000000</td>\n",
       "      <td>0.174541</td>\n",
       "      <td>-0.067257</td>\n",
       "      <td>0.174541</td>\n",
       "    </tr>\n",
       "    <tr>\n",
       "      <th>MRI_Count</th>\n",
       "      <td>0.325697</td>\n",
       "      <td>0.254933</td>\n",
       "      <td>0.396157</td>\n",
       "      <td>0.446271</td>\n",
       "      <td>0.174541</td>\n",
       "      <td>1.000000</td>\n",
       "      <td>0.334868</td>\n",
       "      <td>1.000000</td>\n",
       "    </tr>\n",
       "    <tr>\n",
       "      <th>Promedio</th>\n",
       "      <td>0.999072</td>\n",
       "      <td>0.951318</td>\n",
       "      <td>0.946876</td>\n",
       "      <td>0.045848</td>\n",
       "      <td>-0.067257</td>\n",
       "      <td>0.334868</td>\n",
       "      <td>1.000000</td>\n",
       "      <td>0.334868</td>\n",
       "    </tr>\n",
       "    <tr>\n",
       "      <th>MRI</th>\n",
       "      <td>0.325697</td>\n",
       "      <td>0.254933</td>\n",
       "      <td>0.396157</td>\n",
       "      <td>0.446271</td>\n",
       "      <td>0.174541</td>\n",
       "      <td>1.000000</td>\n",
       "      <td>0.334868</td>\n",
       "      <td>1.000000</td>\n",
       "    </tr>\n",
       "  </tbody>\n",
       "</table>\n",
       "</div>"
      ],
      "text/plain": [
       "               FSIQ       VIQ       PIQ    Weight    Height  MRI_Count  \\\n",
       "FSIQ       1.000000  0.955717  0.939382  0.038192 -0.059011   0.325697   \n",
       "VIQ        0.955717  1.000000  0.802652 -0.021889 -0.146453   0.254933   \n",
       "PIQ        0.939382  0.802652  1.000000  0.113901 -0.001242   0.396157   \n",
       "Weight     0.038192 -0.021889  0.113901  1.000000  0.552357   0.446271   \n",
       "Height    -0.059011 -0.146453 -0.001242  0.552357  1.000000   0.174541   \n",
       "MRI_Count  0.325697  0.254933  0.396157  0.446271  0.174541   1.000000   \n",
       "Promedio   0.999072  0.951318  0.946876  0.045848 -0.067257   0.334868   \n",
       "MRI        0.325697  0.254933  0.396157  0.446271  0.174541   1.000000   \n",
       "\n",
       "           Promedio       MRI  \n",
       "FSIQ       0.999072  0.325697  \n",
       "VIQ        0.951318  0.254933  \n",
       "PIQ        0.946876  0.396157  \n",
       "Weight     0.045848  0.446271  \n",
       "Height    -0.067257  0.174541  \n",
       "MRI_Count  0.334868  1.000000  \n",
       "Promedio   1.000000  0.334868  \n",
       "MRI        0.334868  1.000000  "
      ]
     },
     "execution_count": 25,
     "metadata": {},
     "output_type": "execute_result"
    }
   ],
   "source": [
    "# Code cell 9\n",
    "womenDf.corr(method='pearson')"
   ]
  },
  {
   "cell_type": "markdown",
   "id": "d42488b0",
   "metadata": {},
   "source": [
    "Y lo mismo se puede hacer para la estructura de datos solo masculina:"
   ]
  },
  {
   "cell_type": "code",
   "execution_count": 26,
   "id": "01570826",
   "metadata": {},
   "outputs": [
    {
     "data": {
      "text/html": [
       "<div>\n",
       "<style scoped>\n",
       "    .dataframe tbody tr th:only-of-type {\n",
       "        vertical-align: middle;\n",
       "    }\n",
       "\n",
       "    .dataframe tbody tr th {\n",
       "        vertical-align: top;\n",
       "    }\n",
       "\n",
       "    .dataframe thead th {\n",
       "        text-align: right;\n",
       "    }\n",
       "</style>\n",
       "<table border=\"1\" class=\"dataframe\">\n",
       "  <thead>\n",
       "    <tr style=\"text-align: right;\">\n",
       "      <th></th>\n",
       "      <th>FSIQ</th>\n",
       "      <th>VIQ</th>\n",
       "      <th>PIQ</th>\n",
       "      <th>Weight</th>\n",
       "      <th>Height</th>\n",
       "      <th>MRI_Count</th>\n",
       "      <th>Promedio</th>\n",
       "      <th>MRI</th>\n",
       "    </tr>\n",
       "  </thead>\n",
       "  <tbody>\n",
       "    <tr>\n",
       "      <th>FSIQ</th>\n",
       "      <td>1.000000</td>\n",
       "      <td>0.944400</td>\n",
       "      <td>0.930694</td>\n",
       "      <td>-0.278140</td>\n",
       "      <td>-0.356110</td>\n",
       "      <td>0.498369</td>\n",
       "      <td>0.998956</td>\n",
       "      <td>0.498369</td>\n",
       "    </tr>\n",
       "    <tr>\n",
       "      <th>VIQ</th>\n",
       "      <td>0.944400</td>\n",
       "      <td>1.000000</td>\n",
       "      <td>0.766021</td>\n",
       "      <td>-0.350453</td>\n",
       "      <td>-0.355588</td>\n",
       "      <td>0.413105</td>\n",
       "      <td>0.946878</td>\n",
       "      <td>0.413105</td>\n",
       "    </tr>\n",
       "    <tr>\n",
       "      <th>PIQ</th>\n",
       "      <td>0.930694</td>\n",
       "      <td>0.766021</td>\n",
       "      <td>1.000000</td>\n",
       "      <td>-0.156863</td>\n",
       "      <td>-0.287676</td>\n",
       "      <td>0.568237</td>\n",
       "      <td>0.931633</td>\n",
       "      <td>0.568237</td>\n",
       "    </tr>\n",
       "    <tr>\n",
       "      <th>Weight</th>\n",
       "      <td>-0.278140</td>\n",
       "      <td>-0.350453</td>\n",
       "      <td>-0.156863</td>\n",
       "      <td>1.000000</td>\n",
       "      <td>0.406542</td>\n",
       "      <td>-0.076875</td>\n",
       "      <td>-0.275284</td>\n",
       "      <td>-0.076875</td>\n",
       "    </tr>\n",
       "    <tr>\n",
       "      <th>Height</th>\n",
       "      <td>-0.356110</td>\n",
       "      <td>-0.355588</td>\n",
       "      <td>-0.287676</td>\n",
       "      <td>0.406542</td>\n",
       "      <td>1.000000</td>\n",
       "      <td>0.301543</td>\n",
       "      <td>-0.350501</td>\n",
       "      <td>0.301543</td>\n",
       "    </tr>\n",
       "    <tr>\n",
       "      <th>MRI_Count</th>\n",
       "      <td>0.498369</td>\n",
       "      <td>0.413105</td>\n",
       "      <td>0.568237</td>\n",
       "      <td>-0.076875</td>\n",
       "      <td>0.301543</td>\n",
       "      <td>1.000000</td>\n",
       "      <td>0.512854</td>\n",
       "      <td>1.000000</td>\n",
       "    </tr>\n",
       "    <tr>\n",
       "      <th>Promedio</th>\n",
       "      <td>0.998956</td>\n",
       "      <td>0.946878</td>\n",
       "      <td>0.931633</td>\n",
       "      <td>-0.275284</td>\n",
       "      <td>-0.350501</td>\n",
       "      <td>0.512854</td>\n",
       "      <td>1.000000</td>\n",
       "      <td>0.512854</td>\n",
       "    </tr>\n",
       "    <tr>\n",
       "      <th>MRI</th>\n",
       "      <td>0.498369</td>\n",
       "      <td>0.413105</td>\n",
       "      <td>0.568237</td>\n",
       "      <td>-0.076875</td>\n",
       "      <td>0.301543</td>\n",
       "      <td>1.000000</td>\n",
       "      <td>0.512854</td>\n",
       "      <td>1.000000</td>\n",
       "    </tr>\n",
       "  </tbody>\n",
       "</table>\n",
       "</div>"
      ],
      "text/plain": [
       "               FSIQ       VIQ       PIQ    Weight    Height  MRI_Count  \\\n",
       "FSIQ       1.000000  0.944400  0.930694 -0.278140 -0.356110   0.498369   \n",
       "VIQ        0.944400  1.000000  0.766021 -0.350453 -0.355588   0.413105   \n",
       "PIQ        0.930694  0.766021  1.000000 -0.156863 -0.287676   0.568237   \n",
       "Weight    -0.278140 -0.350453 -0.156863  1.000000  0.406542  -0.076875   \n",
       "Height    -0.356110 -0.355588 -0.287676  0.406542  1.000000   0.301543   \n",
       "MRI_Count  0.498369  0.413105  0.568237 -0.076875  0.301543   1.000000   \n",
       "Promedio   0.998956  0.946878  0.931633 -0.275284 -0.350501   0.512854   \n",
       "MRI        0.498369  0.413105  0.568237 -0.076875  0.301543   1.000000   \n",
       "\n",
       "           Promedio       MRI  \n",
       "FSIQ       0.998956  0.498369  \n",
       "VIQ        0.946878  0.413105  \n",
       "PIQ        0.931633  0.568237  \n",
       "Weight    -0.275284 -0.076875  \n",
       "Height    -0.350501  0.301543  \n",
       "MRI_Count  0.512854  1.000000  \n",
       "Promedio   1.000000  0.512854  \n",
       "MRI        0.512854  1.000000  "
      ]
     },
     "execution_count": 26,
     "metadata": {},
     "output_type": "execute_result"
    }
   ],
   "source": [
    "# Code cell 10\n",
    "# Use corr() for the male-only dataframe with the pearson method\n",
    "#?.corr(?)\n",
    "menDf.corr(method='pearson')"
   ]
  },
  {
   "cell_type": "markdown",
   "id": "9695f989",
   "metadata": {},
   "source": [
    "### Parte 4: Visualización\n",
    "\n",
    "Paso 1: Instalar Seaborn\n",
    "\n",
    "Para que sea más sencillo visualizar las correlaciones de datos, se pueden utilizar mapas de calor. Según los cuadros de color, los gráficos del mapa de calor pueden ayudar a identificar correlaciones al instante.\n",
    "\n",
    "El módulo de Python denominado seaborn facilita el trazado de los gráficos de los mapas de calor.\n",
    "\n",
    "Primero, ejecute la siguiente celda para descargar e instalar  seaborn."
   ]
  },
  {
   "cell_type": "code",
   "execution_count": 27,
   "id": "4f875044",
   "metadata": {},
   "outputs": [
    {
     "name": "stdout",
     "output_type": "stream",
     "text": [
      "Requirement already satisfied: seaborn in c:\\programdata\\anaconda3\\lib\\site-packages (0.11.2)\n",
      "Requirement already satisfied: scipy>=1.0 in c:\\programdata\\anaconda3\\lib\\site-packages (from seaborn) (1.7.3)\n",
      "Requirement already satisfied: matplotlib>=2.2 in c:\\programdata\\anaconda3\\lib\\site-packages (from seaborn) (3.5.1)\n",
      "Requirement already satisfied: numpy>=1.15 in c:\\programdata\\anaconda3\\lib\\site-packages (from seaborn) (1.21.5)\n",
      "Requirement already satisfied: pandas>=0.23 in c:\\programdata\\anaconda3\\lib\\site-packages (from seaborn) (1.4.2)\n",
      "Requirement already satisfied: cycler>=0.10 in c:\\programdata\\anaconda3\\lib\\site-packages (from matplotlib>=2.2->seaborn) (0.11.0)\n",
      "Requirement already satisfied: pyparsing>=2.2.1 in c:\\programdata\\anaconda3\\lib\\site-packages (from matplotlib>=2.2->seaborn) (3.0.4)\n",
      "Requirement already satisfied: fonttools>=4.22.0 in c:\\programdata\\anaconda3\\lib\\site-packages (from matplotlib>=2.2->seaborn) (4.25.0)\n",
      "Requirement already satisfied: packaging>=20.0 in c:\\programdata\\anaconda3\\lib\\site-packages (from matplotlib>=2.2->seaborn) (21.3)\n",
      "Requirement already satisfied: kiwisolver>=1.0.1 in c:\\programdata\\anaconda3\\lib\\site-packages (from matplotlib>=2.2->seaborn) (1.3.2)\n",
      "Requirement already satisfied: python-dateutil>=2.7 in c:\\programdata\\anaconda3\\lib\\site-packages (from matplotlib>=2.2->seaborn) (2.8.2)\n",
      "Requirement already satisfied: pillow>=6.2.0 in c:\\programdata\\anaconda3\\lib\\site-packages (from matplotlib>=2.2->seaborn) (9.0.1)\n",
      "Requirement already satisfied: pytz>=2020.1 in c:\\programdata\\anaconda3\\lib\\site-packages (from pandas>=0.23->seaborn) (2021.3)\n",
      "Requirement already satisfied: six>=1.5 in c:\\programdata\\anaconda3\\lib\\site-packages (from python-dateutil>=2.7->matplotlib>=2.2->seaborn) (1.16.0)\n"
     ]
    }
   ],
   "source": [
    "# Code cell 11\n",
    "!pip install seaborn"
   ]
  },
  {
   "cell_type": "markdown",
   "id": "d42b5168",
   "metadata": {},
   "source": [
    "Paso 2: Preparar la estructura de datos para Seaborn\n",
    "\n",
    "Si bien seaborn es muy práctico, tiene dificultades con algunos tipos de valores. Por ejemplo, cualquier número no entero o valor no flotante podría generar errores al intentar trazar gráficos con seaborn. Para evitar estos errores, las entradas que no son números deben eliminarse de las estructuras de datos. Si observamos las estructuras de datos, es fácil ver la columna problemática: Género. Como el género contiene valores que no son números (“masculino” o “femenino\"), esa columna debe retirarse.\n",
    "\n",
    "Si desglosamos el código de la celda, obtenemos lo siguiente:\n",
    "\n",
    "Línea 1: importa el módulo seaborn recién instalado.\n",
    "\n",
    "Línea 2: crea una copia de womenDf y elimina la columna “Género” de la estructura de datos womenNoGenderDf y así la prepara para seaborn.\n",
    "\n",
    "Línea 3: crea una copia de menDf y elimina la columna “Género” de la estructura de datos menNoGenderDf y la prepara para seaborn.\n",
    "\n",
    "Línea 4: convierte todos los valores de la estructura de datos womenNoGenderDf en float.\n",
    "\n",
    "Línea 5: convierte todos los valores de la estructura de datos menNoGenderDf en float."
   ]
  },
  {
   "cell_type": "code",
   "execution_count": 28,
   "id": "1247ae96",
   "metadata": {},
   "outputs": [],
   "source": [
    "# Code cell 12\n",
    "import seaborn as sns\n",
    "\n",
    "womenNoGenderDf = womenDf.drop('Gender', axis=1)\n",
    "menNoGenderDf = menDf.drop('Gender', axis=1)\n",
    "\n",
    "womenNoGenderDf = womenNoGenderDf[womenNoGenderDf.columns].astype(float)\n",
    "menNoGenderDf = menNoGenderDf[menNoGenderDf.columns].astype(float)"
   ]
  },
  {
   "cell_type": "markdown",
   "id": "5598c4dc",
   "metadata": {},
   "source": [
    "Paso 3: Trazado del mapa de calor de correlación\n",
    "\n",
    "Ahora que las estructuras de datos están listas, se pueden trazar los mapas de calor. A continuación, se muestra un desglose del código de la celda:\n",
    "\n",
    "Línea 1: genera una tabla de correlación basada en la estructura de datos womenNoGenderDf y la almacena en  wcorr.\n",
    "\n",
    "Línea 2: utiliza el método seaborn heatmap() para generar y trazar el mapa de calor. Observe que heatmap() considera wcorr como un parámetro.\n",
    "\n",
    "Línea 3: se usa para exportar y guardar el mapa de calor generado como imagen PNG. Si bien la línea 3 no está activa (tiene el caracter # como comentario que la precede y obliga al usuario a ignorarla), se guardó con fines informativos."
   ]
  },
  {
   "cell_type": "code",
   "execution_count": 30,
   "id": "2d034161",
   "metadata": {},
   "outputs": [
    {
     "data": {
      "text/plain": [
       "<AxesSubplot:>"
      ]
     },
     "execution_count": 30,
     "metadata": {},
     "output_type": "execute_result"
    },
    {
     "data": {
      "image/png": "[encoded data removed]",
      "text/plain": [
       "<Figure size 432x288 with 2 Axes>"
      ]
     },
     "metadata": {
      "needs_background": "light"
     },
     "output_type": "display_data"
    }
   ],
   "source": [
    "# Code cell 13\n",
    "wcorr = womenNoGenderDf.corr()\n",
    "sns.heatmap(wcorr)\n",
    "#plt.savefig('attribute_correlations.png', tight_layout=True)"
   ]
  },
  {
   "cell_type": "markdown",
   "id": "9d9960d1",
   "metadata": {},
   "source": [
    "Del mismo modo, el siguiente código crea y traza un mapa de calor para la estructura de datos masculina únicamente.\n"
   ]
  },
  {
   "cell_type": "code",
   "execution_count": 31,
   "id": "f2cb9328",
   "metadata": {},
   "outputs": [
    {
     "data": {
      "text/plain": [
       "<AxesSubplot:>"
      ]
     },
     "execution_count": 31,
     "metadata": {},
     "output_type": "execute_result"
    },
    {
     "data": {
      "image/png": "[encoded data removed]",
      "text/plain": [
       "<Figure size 432x288 with 2 Axes>"
      ]
     },
     "metadata": {
      "needs_background": "light"
     },
     "output_type": "display_data"
    }
   ],
   "source": [
    "# Code cell 14\n",
    "mcorr = menNoGenderDf.corr()\n",
    "sns.heatmap(mcorr)\n",
    "#plt.savefig('attribute_correlations.png', tight_layout=True)"
   ]
  },
  {
   "cell_type": "markdown",
   "id": "66cacaf0",
   "metadata": {},
   "source": [
    "Muchos pares de variables presentan una correlación cercana a cero. ¿Qué significa?\n",
    "\n",
    "**Significa que el peso y la altura no tiene nada que ver con el nivel de inteligencia**\n",
    "\n",
    "¿Por qué se separan los géneros?\n",
    "\n",
    "**Porque un hombre y una mujer son muy diferentes en su peso o cuerpo y puede haber diferencias en los resultados**\n",
    "\n",
    "¿Qué variables tienen una correlación más estrecha con el tamaño del cerebro (MRI_Count)? ¿Es eso lo que se espera? Explique.\n",
    "\n",
    "**La variable de peso y quiere decir que entre mas peso tiene una persona mas grande es el tamaño de su cerebro**"
   ]
  },
  {
   "cell_type": "markdown",
   "id": "4a7af8a2",
   "metadata": {},
   "source": [
    "© 2017 Cisco y/o sus filiales. Todos los derechos reservados. Este documento es información pública de Cisco."
   ]
  }
 ],
 "metadata": {
  "kernelspec": {
   "display_name": "Python 3 (ipykernel)",
   "language": "python",
   "name": "python3"
  },
  "language_info": {
   "codemirror_mode": {
    "name": "ipython",
    "version": 3
   },
   "file_extension": ".py",
   "mimetype": "text/x-python",
   "name": "python",
   "nbconvert_exporter": "python",
   "pygments_lexer": "ipython3",
   "version": "3.9.12"
  }
 },
 "nbformat": 4,
 "nbformat_minor": 5
}
