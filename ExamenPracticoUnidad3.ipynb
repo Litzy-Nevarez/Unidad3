{
 "cells": [
  {
   "cell_type": "markdown",
   "id": "4e86c333",
   "metadata": {},
   "source": [
    "# Practica Unidad 3 Club de préstamos LendingClub\n",
    "\n",
    "## Nevarez García Litzy Yulissa 19040372\n",
    "\n",
    "## Contexto de la practica\n",
    "\n",
    "LendingClub es una compañía estadounidense de préstamos entre pares, con sede en San\n",
    "Francisco, California. Es la plataforma de préstamos peer-to-peer más grande del mundo.\n",
    "\n",
    "**LendingClub**\n",
    "\n",
    "- permite a los prestatarios solicitar préstamos personales no garantizados entre 1,000 y 40,000.\n",
    "- Los inversionistas pueden buscar y explorar las listas de préstamos en el sitio web de LendingClub y seleccionar los préstamos en los que desean invertir según la información proporcionada sobre el prestatario, el monto del préstamo, el grado del préstamo y el propósito del préstamo, con una inversión mínima de 25 dolares.\n",
    "- Los inversionistas ganan dinero con los intereses.\n",
    "- LendingClub gana dinero cobrando a los prestatarios una tarifa de originación y a los inversionistas una tarifa de servicio.\n",
    "\n",
    "\n",
    "El archivo de datos **lending_club_2007_2011_6_states.csv** contiene la información del préstamo y\n",
    "del prestatario para los préstamos iniciados entre 2007 y 2011 en seis estados, California, Nueva\n",
    "York, Florida, Texas, Nueva Jersey e Illinois.\n",
    "\n",
    "El archivo de diccionario de datos **data_dictionary.csv** contiene descripciones de todas las columnas\n",
    "del archivo de datos.\n",
    "\n",
    "**En cada punto se debe explicar el resultado obtenido**"
   ]
  },
  {
   "cell_type": "markdown",
   "id": "0b8ad9c2",
   "metadata": {},
   "source": [
    "## PASO 1. Realizar lo siguiente\n",
    "\n",
    "• Verificar la información básica del DataFrame\n",
    "\n",
    "• Verificar los valores nulos de cada columna"
   ]
  },
  {
   "cell_type": "code",
   "execution_count": 2,
   "id": "5a254ea8",
   "metadata": {},
   "outputs": [],
   "source": [
    "import pandas as pd\n",
    "import matplotlib\n",
    "import matplotlib.pyplot as plt\n",
    "import numpy as np"
   ]
  },
  {
   "cell_type": "code",
   "execution_count": 3,
   "id": "e979f557",
   "metadata": {},
   "outputs": [
    {
     "data": {
      "text/html": [
       "<div>\n",
       "<style scoped>\n",
       "    .dataframe tbody tr th:only-of-type {\n",
       "        vertical-align: middle;\n",
       "    }\n",
       "\n",
       "    .dataframe tbody tr th {\n",
       "        vertical-align: top;\n",
       "    }\n",
       "\n",
       "    .dataframe thead th {\n",
       "        text-align: right;\n",
       "    }\n",
       "</style>\n",
       "<table border=\"1\" class=\"dataframe\">\n",
       "  <thead>\n",
       "    <tr style=\"text-align: right;\">\n",
       "      <th></th>\n",
       "      <th>loan_amnt</th>\n",
       "      <th>funded_amnt</th>\n",
       "      <th>funded_amnt_inv</th>\n",
       "      <th>term</th>\n",
       "      <th>int_rate</th>\n",
       "      <th>installment</th>\n",
       "      <th>grade</th>\n",
       "      <th>sub_grade</th>\n",
       "      <th>emp_title</th>\n",
       "      <th>emp_length</th>\n",
       "      <th>...</th>\n",
       "      <th>application_type</th>\n",
       "      <th>acc_now_delinq</th>\n",
       "      <th>chargeoff_within_12_mths</th>\n",
       "      <th>delinq_amnt</th>\n",
       "      <th>pub_rec_bankruptcies</th>\n",
       "      <th>tax_liens</th>\n",
       "      <th>hardship_flag</th>\n",
       "      <th>disbursement_method</th>\n",
       "      <th>debt_settlement_flag</th>\n",
       "      <th>debt_settlement_flag_date</th>\n",
       "    </tr>\n",
       "  </thead>\n",
       "  <tbody>\n",
       "    <tr>\n",
       "      <th>0</th>\n",
       "      <td>2400</td>\n",
       "      <td>2400</td>\n",
       "      <td>2400.0</td>\n",
       "      <td>36 months</td>\n",
       "      <td>15.96</td>\n",
       "      <td>84.33</td>\n",
       "      <td>C</td>\n",
       "      <td>C5</td>\n",
       "      <td>NaN</td>\n",
       "      <td>10+ years</td>\n",
       "      <td>...</td>\n",
       "      <td>Individual</td>\n",
       "      <td>0</td>\n",
       "      <td>0.0</td>\n",
       "      <td>0</td>\n",
       "      <td>0.0</td>\n",
       "      <td>0.0</td>\n",
       "      <td>N</td>\n",
       "      <td>Cash</td>\n",
       "      <td>N</td>\n",
       "      <td>NaN</td>\n",
       "    </tr>\n",
       "    <tr>\n",
       "      <th>1</th>\n",
       "      <td>10000</td>\n",
       "      <td>10000</td>\n",
       "      <td>10000.0</td>\n",
       "      <td>36 months</td>\n",
       "      <td>13.49</td>\n",
       "      <td>339.31</td>\n",
       "      <td>C</td>\n",
       "      <td>C1</td>\n",
       "      <td>AIR RESOURCES BOARD</td>\n",
       "      <td>10+ years</td>\n",
       "      <td>...</td>\n",
       "      <td>Individual</td>\n",
       "      <td>0</td>\n",
       "      <td>0.0</td>\n",
       "      <td>0</td>\n",
       "      <td>0.0</td>\n",
       "      <td>0.0</td>\n",
       "      <td>N</td>\n",
       "      <td>Cash</td>\n",
       "      <td>N</td>\n",
       "      <td>NaN</td>\n",
       "    </tr>\n",
       "    <tr>\n",
       "      <th>2</th>\n",
       "      <td>3000</td>\n",
       "      <td>3000</td>\n",
       "      <td>3000.0</td>\n",
       "      <td>36 months</td>\n",
       "      <td>18.64</td>\n",
       "      <td>109.43</td>\n",
       "      <td>E</td>\n",
       "      <td>E1</td>\n",
       "      <td>MKC Accounting</td>\n",
       "      <td>9 years</td>\n",
       "      <td>...</td>\n",
       "      <td>Individual</td>\n",
       "      <td>0</td>\n",
       "      <td>0.0</td>\n",
       "      <td>0</td>\n",
       "      <td>0.0</td>\n",
       "      <td>0.0</td>\n",
       "      <td>N</td>\n",
       "      <td>Cash</td>\n",
       "      <td>N</td>\n",
       "      <td>NaN</td>\n",
       "    </tr>\n",
       "    <tr>\n",
       "      <th>3</th>\n",
       "      <td>5600</td>\n",
       "      <td>5600</td>\n",
       "      <td>5600.0</td>\n",
       "      <td>60 months</td>\n",
       "      <td>21.28</td>\n",
       "      <td>152.39</td>\n",
       "      <td>F</td>\n",
       "      <td>F2</td>\n",
       "      <td>NaN</td>\n",
       "      <td>4 years</td>\n",
       "      <td>...</td>\n",
       "      <td>Individual</td>\n",
       "      <td>0</td>\n",
       "      <td>0.0</td>\n",
       "      <td>0</td>\n",
       "      <td>0.0</td>\n",
       "      <td>0.0</td>\n",
       "      <td>N</td>\n",
       "      <td>Cash</td>\n",
       "      <td>N</td>\n",
       "      <td>NaN</td>\n",
       "    </tr>\n",
       "    <tr>\n",
       "      <th>4</th>\n",
       "      <td>5375</td>\n",
       "      <td>5375</td>\n",
       "      <td>5350.0</td>\n",
       "      <td>60 months</td>\n",
       "      <td>12.69</td>\n",
       "      <td>121.45</td>\n",
       "      <td>B</td>\n",
       "      <td>B5</td>\n",
       "      <td>Starbucks</td>\n",
       "      <td>&lt; 1 year</td>\n",
       "      <td>...</td>\n",
       "      <td>Individual</td>\n",
       "      <td>0</td>\n",
       "      <td>0.0</td>\n",
       "      <td>0</td>\n",
       "      <td>0.0</td>\n",
       "      <td>0.0</td>\n",
       "      <td>N</td>\n",
       "      <td>Cash</td>\n",
       "      <td>N</td>\n",
       "      <td>NaN</td>\n",
       "    </tr>\n",
       "  </tbody>\n",
       "</table>\n",
       "<p>5 rows × 58 columns</p>\n",
       "</div>"
      ],
      "text/plain": [
       "   loan_amnt  funded_amnt  funded_amnt_inv       term  int_rate  installment  \\\n",
       "0       2400         2400           2400.0  36 months     15.96        84.33   \n",
       "1      10000        10000          10000.0  36 months     13.49       339.31   \n",
       "2       3000         3000           3000.0  36 months     18.64       109.43   \n",
       "3       5600         5600           5600.0  60 months     21.28       152.39   \n",
       "4       5375         5375           5350.0  60 months     12.69       121.45   \n",
       "\n",
       "  grade sub_grade            emp_title emp_length  ... application_type  \\\n",
       "0     C        C5                  NaN  10+ years  ...       Individual   \n",
       "1     C        C1  AIR RESOURCES BOARD  10+ years  ...       Individual   \n",
       "2     E        E1      MKC Accounting     9 years  ...       Individual   \n",
       "3     F        F2                  NaN    4 years  ...       Individual   \n",
       "4     B        B5            Starbucks   < 1 year  ...       Individual   \n",
       "\n",
       "   acc_now_delinq chargeoff_within_12_mths delinq_amnt pub_rec_bankruptcies  \\\n",
       "0               0                      0.0           0                  0.0   \n",
       "1               0                      0.0           0                  0.0   \n",
       "2               0                      0.0           0                  0.0   \n",
       "3               0                      0.0           0                  0.0   \n",
       "4               0                      0.0           0                  0.0   \n",
       "\n",
       "  tax_liens hardship_flag disbursement_method debt_settlement_flag  \\\n",
       "0       0.0             N                Cash                    N   \n",
       "1       0.0             N                Cash                    N   \n",
       "2       0.0             N                Cash                    N   \n",
       "3       0.0             N                Cash                    N   \n",
       "4       0.0             N                Cash                    N   \n",
       "\n",
       "  debt_settlement_flag_date  \n",
       "0                       NaN  \n",
       "1                       NaN  \n",
       "2                       NaN  \n",
       "3                       NaN  \n",
       "4                       NaN  \n",
       "\n",
       "[5 rows x 58 columns]"
      ]
     },
     "execution_count": 3,
     "metadata": {},
     "output_type": "execute_result"
    }
   ],
   "source": [
    "path = 'C:/Users/yulis/Analitica de los Datos en las organizaciones/lending_club_2007_2011_6_states.csv'\n",
    "datosClub = pd.read_csv(path)\n",
    "datosClub.head(5)"
   ]
  },
  {
   "cell_type": "code",
   "execution_count": 4,
   "id": "3832267b",
   "metadata": {},
   "outputs": [
    {
     "name": "stdout",
     "output_type": "stream",
     "text": [
      "<class 'pandas.core.frame.DataFrame'>\n",
      "RangeIndex: 19908 entries, 0 to 19907\n",
      "Data columns (total 58 columns):\n",
      " #   Column                       Non-Null Count  Dtype  \n",
      "---  ------                       --------------  -----  \n",
      " 0   loan_amnt                    19908 non-null  int64  \n",
      " 1   funded_amnt                  19908 non-null  int64  \n",
      " 2   funded_amnt_inv              19908 non-null  float64\n",
      " 3   term                         19908 non-null  object \n",
      " 4   int_rate                     19908 non-null  float64\n",
      " 5   installment                  19908 non-null  float64\n",
      " 6   grade                        19908 non-null  object \n",
      " 7   sub_grade                    19908 non-null  object \n",
      " 8   emp_title                    18723 non-null  object \n",
      " 9   emp_length                   19409 non-null  object \n",
      " 10  home_ownership               19908 non-null  object \n",
      " 11  annual_inc                   19908 non-null  int64  \n",
      " 12  verification_status          19908 non-null  object \n",
      " 13  issue_d                      19908 non-null  object \n",
      " 14  loan_status                  19908 non-null  object \n",
      " 15  pymnt_plan                   19908 non-null  object \n",
      " 16  purpose                      19908 non-null  object \n",
      " 17  title                        19903 non-null  object \n",
      " 18  zip_code                     19908 non-null  object \n",
      " 19  addr_state                   19908 non-null  object \n",
      " 20  dti                          19908 non-null  float64\n",
      " 21  delinq_2yrs                  19908 non-null  int64  \n",
      " 22  earliest_cr_line             19908 non-null  object \n",
      " 23  inq_last_6mths               19908 non-null  int64  \n",
      " 24  mths_since_last_delinq       6998 non-null   float64\n",
      " 25  mths_since_last_record       1209 non-null   float64\n",
      " 26  open_acc                     19908 non-null  int64  \n",
      " 27  pub_rec                      19908 non-null  int64  \n",
      " 28  revol_bal                    19908 non-null  int64  \n",
      " 29  revol_util                   19889 non-null  float64\n",
      " 30  total_acc                    19908 non-null  int64  \n",
      " 31  initial_list_status          19908 non-null  object \n",
      " 32  out_prncp                    19908 non-null  int64  \n",
      " 33  out_prncp_inv                19908 non-null  int64  \n",
      " 34  total_pymnt                  19908 non-null  float64\n",
      " 35  total_pymnt_inv              19908 non-null  float64\n",
      " 36  total_rec_prncp              19908 non-null  float64\n",
      " 37  total_rec_int                19908 non-null  float64\n",
      " 38  total_rec_late_fee           19908 non-null  float64\n",
      " 39  recoveries                   19908 non-null  float64\n",
      " 40  collection_recovery_fee      19908 non-null  float64\n",
      " 41  last_pymnt_d                 19865 non-null  object \n",
      " 42  last_pymnt_amnt              19908 non-null  float64\n",
      " 43  next_pymnt_d                 0 non-null      float64\n",
      " 44  last_credit_pull_d           19906 non-null  object \n",
      " 45  collections_12_mths_ex_med   19893 non-null  float64\n",
      " 46  mths_since_last_major_derog  0 non-null      float64\n",
      " 47  policy_code                  19908 non-null  int64  \n",
      " 48  application_type             19908 non-null  object \n",
      " 49  acc_now_delinq               19908 non-null  int64  \n",
      " 50  chargeoff_within_12_mths     19893 non-null  float64\n",
      " 51  delinq_amnt                  19908 non-null  int64  \n",
      " 52  pub_rec_bankruptcies         19595 non-null  float64\n",
      " 53  tax_liens                    19898 non-null  float64\n",
      " 54  hardship_flag                19908 non-null  object \n",
      " 55  disbursement_method          19908 non-null  object \n",
      " 56  debt_settlement_flag         19908 non-null  object \n",
      " 57  debt_settlement_flag_date    82 non-null     object \n",
      "dtypes: float64(21), int64(14), object(23)\n",
      "memory usage: 8.8+ MB\n"
     ]
    }
   ],
   "source": [
    "#mostramos la información\n",
    "datosClub.info()"
   ]
  },
  {
   "cell_type": "code",
   "execution_count": 5,
   "id": "dd6368d6",
   "metadata": {},
   "outputs": [
    {
     "name": "stdout",
     "output_type": "stream",
     "text": [
      "loan_amnt\n",
      "False    19908\n",
      "Name: loan_amnt, dtype: int64\n",
      "\n",
      "funded_amnt\n",
      "False    19908\n",
      "Name: funded_amnt, dtype: int64\n",
      "\n",
      "funded_amnt_inv\n",
      "False    19908\n",
      "Name: funded_amnt_inv, dtype: int64\n",
      "\n",
      "term\n",
      "False    19908\n",
      "Name: term, dtype: int64\n",
      "\n",
      "int_rate\n",
      "False    19908\n",
      "Name: int_rate, dtype: int64\n",
      "\n",
      "installment\n",
      "False    19908\n",
      "Name: installment, dtype: int64\n",
      "\n",
      "grade\n",
      "False    19908\n",
      "Name: grade, dtype: int64\n",
      "\n",
      "sub_grade\n",
      "False    19908\n",
      "Name: sub_grade, dtype: int64\n",
      "\n",
      "emp_title\n",
      "False    18723\n",
      "True      1185\n",
      "Name: emp_title, dtype: int64\n",
      "\n",
      "emp_length\n",
      "False    19409\n",
      "True       499\n",
      "Name: emp_length, dtype: int64\n",
      "\n",
      "home_ownership\n",
      "False    19908\n",
      "Name: home_ownership, dtype: int64\n",
      "\n",
      "annual_inc\n",
      "False    19908\n",
      "Name: annual_inc, dtype: int64\n",
      "\n",
      "verification_status\n",
      "False    19908\n",
      "Name: verification_status, dtype: int64\n",
      "\n",
      "issue_d\n",
      "False    19908\n",
      "Name: issue_d, dtype: int64\n",
      "\n",
      "loan_status\n",
      "False    19908\n",
      "Name: loan_status, dtype: int64\n",
      "\n",
      "pymnt_plan\n",
      "False    19908\n",
      "Name: pymnt_plan, dtype: int64\n",
      "\n",
      "purpose\n",
      "False    19908\n",
      "Name: purpose, dtype: int64\n",
      "\n",
      "title\n",
      "False    19903\n",
      "True         5\n",
      "Name: title, dtype: int64\n",
      "\n",
      "zip_code\n",
      "False    19908\n",
      "Name: zip_code, dtype: int64\n",
      "\n",
      "addr_state\n",
      "False    19908\n",
      "Name: addr_state, dtype: int64\n",
      "\n",
      "dti\n",
      "False    19908\n",
      "Name: dti, dtype: int64\n",
      "\n",
      "delinq_2yrs\n",
      "False    19908\n",
      "Name: delinq_2yrs, dtype: int64\n",
      "\n",
      "earliest_cr_line\n",
      "False    19908\n",
      "Name: earliest_cr_line, dtype: int64\n",
      "\n",
      "inq_last_6mths\n",
      "False    19908\n",
      "Name: inq_last_6mths, dtype: int64\n",
      "\n",
      "mths_since_last_delinq\n",
      "True     12910\n",
      "False     6998\n",
      "Name: mths_since_last_delinq, dtype: int64\n",
      "\n",
      "mths_since_last_record\n",
      "True     18699\n",
      "False     1209\n",
      "Name: mths_since_last_record, dtype: int64\n",
      "\n",
      "open_acc\n",
      "False    19908\n",
      "Name: open_acc, dtype: int64\n",
      "\n",
      "pub_rec\n",
      "False    19908\n",
      "Name: pub_rec, dtype: int64\n",
      "\n",
      "revol_bal\n",
      "False    19908\n",
      "Name: revol_bal, dtype: int64\n",
      "\n",
      "revol_util\n",
      "False    19889\n",
      "True        19\n",
      "Name: revol_util, dtype: int64\n",
      "\n",
      "total_acc\n",
      "False    19908\n",
      "Name: total_acc, dtype: int64\n",
      "\n",
      "initial_list_status\n",
      "False    19908\n",
      "Name: initial_list_status, dtype: int64\n",
      "\n",
      "out_prncp\n",
      "False    19908\n",
      "Name: out_prncp, dtype: int64\n",
      "\n",
      "out_prncp_inv\n",
      "False    19908\n",
      "Name: out_prncp_inv, dtype: int64\n",
      "\n",
      "total_pymnt\n",
      "False    19908\n",
      "Name: total_pymnt, dtype: int64\n",
      "\n",
      "total_pymnt_inv\n",
      "False    19908\n",
      "Name: total_pymnt_inv, dtype: int64\n",
      "\n",
      "total_rec_prncp\n",
      "False    19908\n",
      "Name: total_rec_prncp, dtype: int64\n",
      "\n",
      "total_rec_int\n",
      "False    19908\n",
      "Name: total_rec_int, dtype: int64\n",
      "\n",
      "total_rec_late_fee\n",
      "False    19908\n",
      "Name: total_rec_late_fee, dtype: int64\n",
      "\n",
      "recoveries\n",
      "False    19908\n",
      "Name: recoveries, dtype: int64\n",
      "\n",
      "collection_recovery_fee\n",
      "False    19908\n",
      "Name: collection_recovery_fee, dtype: int64\n",
      "\n",
      "last_pymnt_d\n",
      "False    19865\n",
      "True        43\n",
      "Name: last_pymnt_d, dtype: int64\n",
      "\n",
      "last_pymnt_amnt\n",
      "False    19908\n",
      "Name: last_pymnt_amnt, dtype: int64\n",
      "\n",
      "next_pymnt_d\n",
      "True    19908\n",
      "Name: next_pymnt_d, dtype: int64\n",
      "\n",
      "last_credit_pull_d\n",
      "False    19906\n",
      "True         2\n",
      "Name: last_credit_pull_d, dtype: int64\n",
      "\n",
      "collections_12_mths_ex_med\n",
      "False    19893\n",
      "True        15\n",
      "Name: collections_12_mths_ex_med, dtype: int64\n",
      "\n",
      "mths_since_last_major_derog\n",
      "True    19908\n",
      "Name: mths_since_last_major_derog, dtype: int64\n",
      "\n",
      "policy_code\n",
      "False    19908\n",
      "Name: policy_code, dtype: int64\n",
      "\n",
      "application_type\n",
      "False    19908\n",
      "Name: application_type, dtype: int64\n",
      "\n",
      "acc_now_delinq\n",
      "False    19908\n",
      "Name: acc_now_delinq, dtype: int64\n",
      "\n",
      "chargeoff_within_12_mths\n",
      "False    19893\n",
      "True        15\n",
      "Name: chargeoff_within_12_mths, dtype: int64\n",
      "\n",
      "delinq_amnt\n",
      "False    19908\n",
      "Name: delinq_amnt, dtype: int64\n",
      "\n",
      "pub_rec_bankruptcies\n",
      "False    19595\n",
      "True       313\n",
      "Name: pub_rec_bankruptcies, dtype: int64\n",
      "\n",
      "tax_liens\n",
      "False    19898\n",
      "True        10\n",
      "Name: tax_liens, dtype: int64\n",
      "\n",
      "hardship_flag\n",
      "False    19908\n",
      "Name: hardship_flag, dtype: int64\n",
      "\n",
      "disbursement_method\n",
      "False    19908\n",
      "Name: disbursement_method, dtype: int64\n",
      "\n",
      "debt_settlement_flag\n",
      "False    19908\n",
      "Name: debt_settlement_flag, dtype: int64\n",
      "\n",
      "debt_settlement_flag_date\n",
      "True     19826\n",
      "False       82\n",
      "Name: debt_settlement_flag_date, dtype: int64\n",
      "\n"
     ]
    }
   ],
   "source": [
    "#Mostramos los datos vacios, primero hacemos un frame con los datos nulos y despues un ciclo para mostrarlos\n",
    "valores_perdidos = datosClub.isnull()\n",
    "#valores_perdidos.head(5)\n",
    "for columna in valores_perdidos.columns.values.tolist(): \n",
    "    print(columna)\n",
    "    print(valores_perdidos[columna].value_counts())\n",
    "    print(\"\")"
   ]
  },
  {
   "cell_type": "markdown",
   "id": "a7dba067",
   "metadata": {},
   "source": [
    "## Paso 2. Realizar un Análisis Exploratorio de los Datos - EDA\n",
    "\n",
    "EDA es un enfoque para analizar conjuntos de datos para **resumir sus características principales**, a menudo con visualizaciones.\n",
    "\n",
    "Para variables **categóricas**, podemos verificar:\n",
    "\n",
    "- Valores únicos en la categoría.\n",
    "- Recuento de cada categoría.\n",
    "- Agregación de otras características continuas para cada categoría.\n",
    "\n",
    "Para variables **continuas**, podemos verificar:\n",
    "\n",
    "- Distribuciones\n",
    "- Correlaciones de múltiples características\n",
    "\n",
    "### 2.1 Explorar Plazo del préstamo\n",
    "Explorar la característica del plazo del préstamo\n",
    "\n",
    "1. Mostrar los valores únicos en la columna plazo\n",
    "2. Contar los valores de los diferentes plazos del crédito\n",
    "3. Realizar una grafica de barras que compare los plazos del crédito"
   ]
  },
  {
   "cell_type": "code",
   "execution_count": 6,
   "id": "11aa671f",
   "metadata": {},
   "outputs": [
    {
     "data": {
      "text/plain": [
       "array(['36 months', '60 months'], dtype=object)"
      ]
     },
     "execution_count": 6,
     "metadata": {},
     "output_type": "execute_result"
    }
   ],
   "source": [
    "# 1. Usamos el metodo unique para sacar los valores unicos de la columna plazo\n",
    "datosClub[\"term\"].unique()"
   ]
  },
  {
   "cell_type": "code",
   "execution_count": 7,
   "id": "1d60883b",
   "metadata": {},
   "outputs": [
    {
     "data": {
      "text/plain": [
       "36 months    14852\n",
       "60 months     5056\n",
       "Name: term, dtype: int64"
      ]
     },
     "execution_count": 7,
     "metadata": {},
     "output_type": "execute_result"
    }
   ],
   "source": [
    "# 2. Utilizamos la funcion counts para contar los valores\n",
    "datosClub[\"term\"].value_counts()"
   ]
  },
  {
   "cell_type": "code",
   "execution_count": 8,
   "id": "55ac0fcc",
   "metadata": {},
   "outputs": [
    {
     "data": {
      "image/png": "[encoded data removed]",
      "text/plain": [
       "<Figure size 432x288 with 1 Axes>"
      ]
     },
     "metadata": {
      "needs_background": "light"
     },
     "output_type": "display_data"
    }
   ],
   "source": [
    "#3. Creamos la gráfica de barras\n",
    "# Como eje X ponenos los meses\n",
    "ejeX = datosClub[\"term\"].unique()\n",
    "# Como eje Y ponemos la cuenta\n",
    "ejeY = datosClub[\"term\"].value_counts().tolist()\n",
    "\n",
    "plt.bar(ejeX, ejeY, color=['green','red'])\n",
    "\n",
    "#Ponemos titulos y personalizamos\n",
    "plt.title('Plazos de Prestamos')\n",
    "ax = plt.subplot()\n",
    "ax.set_xticks(ejeX)#Eje x\n",
    "ax.set_xticklabels(ejeX)#Etiquetas del eje x\n",
    "ax.set_xlabel('Meses')#Nombre del eje x\n",
    "ax.set_ylabel('Valores')#Nombre del eje y\n",
    "\n",
    "plt.show()\n",
    "plt.close('all')"
   ]
  },
  {
   "cell_type": "markdown",
   "id": "6a5cde3f",
   "metadata": {},
   "source": [
    "### 2.2 Explorar la Taza de interés\n",
    "\n",
    "Explorar la característica de la tasa de interés\n",
    "\n",
    "4. Calcular la tasa promedio por plazo\n",
    "\n",
    "5. Graficar la tasa promedio \n",
    "\n",
    "6. Realizar un histograma sobre la columna int_rate para verificar la distribución de la tasa de interés\n"
   ]
  },
  {
   "cell_type": "code",
   "execution_count": 9,
   "id": "5b3cfe80",
   "metadata": {},
   "outputs": [
    {
     "data": {
      "text/plain": [
       "term\n",
       "36 months    11.121125\n",
       "60 months    14.934955\n",
       "Name: int_rate, dtype: float64"
      ]
     },
     "execution_count": 9,
     "metadata": {},
     "output_type": "execute_result"
    }
   ],
   "source": [
    "#4. Seleccionamos los valores de la columna int_rate y los agrupamos con la columna term para después sacar la media\n",
    "datosClub[\"int_rate\"].groupby(datosClub[\"term\"]).mean()"
   ]
  },
  {
   "cell_type": "code",
   "execution_count": 10,
   "id": "2ec9dce5",
   "metadata": {},
   "outputs": [
    {
     "data": {
      "image/png": "[encoded data removed]",
      "text/plain": [
       "<Figure size 432x288 with 1 Axes>"
      ]
     },
     "metadata": {
      "needs_background": "light"
     },
     "output_type": "display_data"
    }
   ],
   "source": [
    "#5 Graficamos los datos anteriores\n",
    "# Como eje X ponenos los meses\n",
    "ejeX = datosClub[\"term\"].unique()\n",
    "# Como eje Y ponemos el promedio de la tasa de interes que calculamos\n",
    "ejeY = datosClub[\"int_rate\"].groupby(datosClub[\"term\"]).mean().tolist()\n",
    "\n",
    "plt.bar(ejeX, ejeY, color=['blue','orange'])\n",
    "\n",
    "#Ponemos titulos y personalizamos\n",
    "plt.title('Tazas de Interes')\n",
    "ax = plt.subplot()\n",
    "ax.set_xticks(ejeX)#Eje x\n",
    "ax.set_xticklabels(ejeX)#Etiquetas del eje x\n",
    "ax.set_xlabel('Meses')#Nombre del eje x\n",
    "ax.set_ylabel('Promedio')#Nombre del eje y\n",
    "\n",
    "plt.show()\n",
    "plt.close('all')"
   ]
  },
  {
   "cell_type": "code",
   "execution_count": 11,
   "id": "c8b02102",
   "metadata": {},
   "outputs": [
    {
     "data": {
      "image/png": "[encoded data removed]",
      "text/plain": [
       "<Figure size 432x288 with 1 Axes>"
      ]
     },
     "metadata": {
      "needs_background": "light"
     },
     "output_type": "display_data"
    }
   ],
   "source": [
    "#6\n",
    "#creamos un dataframe con los datos y los pasamos a una lista\n",
    "tazaInteres = datosClub[\"int_rate\"]\n",
    "lista = tazaInteres.tolist()\n",
    "\n",
    "#En el eje x van los valores, en el Y es el número de tiras del histograma, el color y el ancho\n",
    "plt.hist(x=lista, bins=10, color='#E5A10D', rwidth=0.85)\n",
    "plt.title('Distribución de la Taza de Interés')\n",
    "plt.xlabel('Tazas de Interes')\n",
    "plt.ylabel('Valores')\n",
    "\n",
    "plt.show()"
   ]
  },
  {
   "cell_type": "markdown",
   "id": "53bbae56",
   "metadata": {},
   "source": [
    "### 2.3 Explorar la calificación del préstamo\n",
    "\n",
    "Lending Club **asigna una calificación crediticia (que mide la probabilidad de incumplimiento \n",
    "del préstamo) y la tasa de interés de su préstamo**. Las calificaciones de préstamos incluyen una \n",
    "letra (A - G)\n",
    "La calificación **A1, la calificación de mayor calidad**, pueden esperar **tasas de interés bajas de \n",
    "alrededor de 5.99%** sobre el préstamo de 36 meses, mientras que aquellos con calificación G5 \n",
    "pueden esperar tasas de 35.89% sobre el préstamo de 36 meses.\n"
   ]
  },
  {
   "cell_type": "markdown",
   "id": "b2531d03",
   "metadata": {},
   "source": [
    "7. ¿Cuántas calificaciones de préstamo diferentes hay en el conjunto de datos?"
   ]
  },
  {
   "cell_type": "code",
   "execution_count": 12,
   "id": "2698115d",
   "metadata": {},
   "outputs": [
    {
     "data": {
      "text/plain": [
       "grade  sub_grade\n",
       "A      A4           1424\n",
       "       A5           1363\n",
       "       A3            865\n",
       "       A2            691\n",
       "       A1            532\n",
       "B      B3           1479\n",
       "       B5           1386\n",
       "       B4           1211\n",
       "       B2           1070\n",
       "       B1            919\n",
       "C      C2           1096\n",
       "       C1           1035\n",
       "       C3            758\n",
       "       C4            605\n",
       "       C5            593\n",
       "D      D2            697\n",
       "       D3            597\n",
       "       D4            514\n",
       "       D1            495\n",
       "       D5            445\n",
       "E      E1            394\n",
       "       E2            323\n",
       "       E3            286\n",
       "       E4            221\n",
       "       E5            210\n",
       "F      F1            154\n",
       "       F2            124\n",
       "       F3            105\n",
       "       F4             94\n",
       "       F5             63\n",
       "G      G1             51\n",
       "       G2             40\n",
       "       G4             28\n",
       "       G3             26\n",
       "       G5             14\n",
       "Name: sub_grade, dtype: int64"
      ]
     },
     "execution_count": 12,
     "metadata": {},
     "output_type": "execute_result"
    }
   ],
   "source": [
    "#Cantidad de prestamos de las diferentes calificaciones\n",
    "datosClub['sub_grade'].groupby(datosClub[\"grade\"]).value_counts()"
   ]
  },
  {
   "cell_type": "markdown",
   "id": "90576907",
   "metadata": {},
   "source": [
    "8. Graficar con barras los valores obtenidos"
   ]
  },
  {
   "cell_type": "code",
   "execution_count": 19,
   "id": "eb5c2b6f",
   "metadata": {},
   "outputs": [],
   "source": [
    "#datosClub['grade'].value_counts()\n",
    "#datosClub['grade'].unique()"
   ]
  },
  {
   "cell_type": "code",
   "execution_count": 27,
   "id": "89a5ed00",
   "metadata": {},
   "outputs": [
    {
     "data": {
      "image/png": "[encoded data removed]",
      "text/plain": [
       "<Figure size 432x288 with 1 Axes>"
      ]
     },
     "metadata": {
      "needs_background": "light"
     },
     "output_type": "display_data"
    }
   ],
   "source": [
    "#Como eje Y pones las calificaciones de los prestamos\n",
    "ejeY = datosClub[\"grade\"].unique()\n",
    "# Como eje X ponemos la cantidad total de las diferentes calificaciones de los prestamos\n",
    "ejeX = datosClub[\"grade\"].value_counts().tolist()\n",
    "plt.barh(ejeY, ejeX, color=['pink','cyan']) \n",
    "  \n",
    "plt.ylabel(\"Grados\") \n",
    "plt.xlabel(\"Valor\") \n",
    "\n",
    "plt.title(\"Calificaciones de Prestamos\") \n",
    "plt.show() "
   ]
  },
  {
   "cell_type": "code",
   "execution_count": null,
   "id": "794e470b",
   "metadata": {},
   "outputs": [],
   "source": [
    "#res = datosClub['grade'].groupby(datosClub[\"sub_grade\"]).value_counts().tolist()\n",
    "#sub_grados = datosClub[\"sub_grade\"].unique().tolist()\n",
    "#sub_grados.sort()\n",
    "#grados = datosClub[\"grade\"].unique().tolist()\n",
    "#grados.sort()\n"
   ]
  },
  {
   "cell_type": "markdown",
   "id": "07cb0d79",
   "metadata": {},
   "source": [
    "### 2.4 Explorar los Préstamos por Estado\n"
   ]
  },
  {
   "cell_type": "markdown",
   "id": "d055c6a4",
   "metadata": {},
   "source": [
    "9. Contabilizar el numero de préstamos por estado"
   ]
  },
  {
   "cell_type": "code",
   "execution_count": 15,
   "id": "f1ac501e",
   "metadata": {},
   "outputs": [
    {
     "data": {
      "text/plain": [
       "array(['Fully Paid', 'Charged Off'], dtype=object)"
      ]
     },
     "execution_count": 15,
     "metadata": {},
     "output_type": "execute_result"
    }
   ],
   "source": [
    "datosClub[\"loan_status\"].unique()"
   ]
  },
  {
   "cell_type": "code",
   "execution_count": 16,
   "id": "6199015f",
   "metadata": {},
   "outputs": [
    {
     "data": {
      "text/plain": [
       "Fully Paid     16965\n",
       "Charged Off     2943\n",
       "Name: loan_status, dtype: int64"
      ]
     },
     "execution_count": 16,
     "metadata": {},
     "output_type": "execute_result"
    }
   ],
   "source": [
    "#Vemos que hay dos tipos de estado, Fully Paid: 16965 prestamos y Charged Off: 2943 prestamos\n",
    "datosClub[\"loan_status\"].value_counts()"
   ]
  },
  {
   "cell_type": "markdown",
   "id": "98ff01ad",
   "metadata": {},
   "source": [
    "10. Graficar con barras horizontales los valores obtenido"
   ]
  },
  {
   "cell_type": "code",
   "execution_count": 17,
   "id": "c22a0b4a",
   "metadata": {},
   "outputs": [
    {
     "data": {
      "image/png": "[encoded data removed]",
      "text/plain": [
       "<Figure size 432x288 with 1 Axes>"
      ]
     },
     "metadata": {
      "needs_background": "light"
     },
     "output_type": "display_data"
    }
   ],
   "source": [
    "#Como eje Y pones los tipos de estado de un prestamo\n",
    "ejeY = datosClub[\"loan_status\"].unique()\n",
    "# Como eje X ponemos la cantidad de prestamos\n",
    "ejeX = datosClub[\"loan_status\"].value_counts().tolist()\n",
    "plt.barh(ejeY, ejeX, color=['orange','green']) \n",
    "  \n",
    "plt.ylabel(\"Estados\") \n",
    "plt.xlabel(\"Valor\") \n",
    "\n",
    "plt.title(\"Prestamos por estado\") \n",
    "plt.show() \n"
   ]
  },
  {
   "cell_type": "code",
   "execution_count": null,
   "id": "26d3dec1",
   "metadata": {},
   "outputs": [],
   "source": []
  }
 ],
 "metadata": {
  "kernelspec": {
   "display_name": "Python 3 (ipykernel)",
   "language": "python",
   "name": "python3"
  },
  "language_info": {
   "codemirror_mode": {
    "name": "ipython",
    "version": 3
   },
   "file_extension": ".py",
   "mimetype": "text/x-python",
   "name": "python",
   "nbconvert_exporter": "python",
   "pygments_lexer": "ipython3",
   "version": "3.9.12"
  }
 },
 "nbformat": 4,
 "nbformat_minor": 5
}
